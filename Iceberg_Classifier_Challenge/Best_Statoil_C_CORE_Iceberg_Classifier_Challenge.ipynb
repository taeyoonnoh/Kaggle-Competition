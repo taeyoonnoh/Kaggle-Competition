{
  "nbformat": 4,
  "nbformat_minor": 0,
  "metadata": {
    "colab": {
      "name": "Best_Statoil/C-CORE Iceberg Classifier Challenge.ipynb",
      "provenance": [],
      "machine_shape": "hm",
      "authorship_tag": "ABX9TyMpH2G91TjOQKsqDifVvcax",
      "include_colab_link": true
    },
    "kernelspec": {
      "name": "python3",
      "display_name": "Python 3"
    },
    "language_info": {
      "name": "python"
    }
  },
  "cells": [
    {
      "cell_type": "markdown",
      "metadata": {
        "id": "view-in-github",
        "colab_type": "text"
      },
      "source": [
        "<a href=\"https://colab.research.google.com/github/taeyoonnoh/Kaggle-Competition/blob/main/Iceberg_Classifier_Challenge/Best_Statoil_C_CORE_Iceberg_Classifier_Challenge.ipynb\" target=\"_parent\"><img src=\"https://colab.research.google.com/assets/colab-badge.svg\" alt=\"Open In Colab\"/></a>"
      ]
    },
    {
      "cell_type": "code",
      "metadata": {
        "id": "1ky7LBqSpesx"
      },
      "source": [
        "# ! pip install -q kaggle\n",
        "\n",
        "# from google.colab import files\n",
        "\n",
        "# files.upload()\n",
        "\n",
        "# ! mkdir ~/.kaggle\n",
        "\n",
        "# ! cp kaggle.json ~/.kaggle/\n",
        "\n",
        "# ! chmod 600 ~/.kaggle/kaggle.json\n"
      ],
      "execution_count": 4,
      "outputs": []
    },
    {
      "cell_type": "code",
      "metadata": {
        "id": "PdQL8toMpgcK"
      },
      "source": [
        "# !kaggle competitions download -c statoil-iceberg-classifier-challenge"
      ],
      "execution_count": 5,
      "outputs": []
    },
    {
      "cell_type": "code",
      "metadata": {
        "id": "YZEIXTY0pj4d"
      },
      "source": [
        "# !7z e train.json.7z\n",
        "# !7z e test.json.7z\n",
        "# !7z e sample_submission.csv.7z"
      ],
      "execution_count": 6,
      "outputs": []
    },
    {
      "cell_type": "code",
      "metadata": {
        "id": "Vl46bnrwpOAR"
      },
      "source": [
        "import pandas as pd \n",
        "import numpy as np \n",
        "import cv2 # Used to manipulated the images \n",
        "np.random.seed(1337) # The seed I used - pick your own or comment out for a random seed. A constant seed allows for better comparisons though\n",
        "\n",
        "# Import Keras \n",
        "from keras.models import Sequential\n",
        "from keras.layers import Dense, Dropout, Flatten, Activation\n",
        "from keras.layers import Conv2D, MaxPooling2D\n",
        "from keras.callbacks import EarlyStopping, ModelCheckpoint, ReduceLROnPlateau\n",
        "from keras.layers import BatchNormalization\n",
        "from tensorflow.keras.optimizers import Adam"
      ],
      "execution_count": 7,
      "outputs": []
    },
    {
      "cell_type": "code",
      "metadata": {
        "id": "OUIw1uskpV-k"
      },
      "source": [
        "df_train = pd.read_json('train.json') # this is a dataframe"
      ],
      "execution_count": 8,
      "outputs": []
    },
    {
      "cell_type": "code",
      "metadata": {
        "id": "u0pVgE_FmQiv"
      },
      "source": [
        "from sklearn.model_selection import StratifiedShuffleSplit, KFold\n",
        "from scipy.ndimage.filters import uniform_filter\n",
        "from scipy.ndimage.measurements import variance\n",
        "from sklearn.model_selection import train_test_split"
      ],
      "execution_count": 9,
      "outputs": []
    },
    {
      "cell_type": "code",
      "metadata": {
        "id": "PFAGPTr7mRuU"
      },
      "source": [
        "def lee_filter(img, size):\n",
        "    \n",
        "    img_mean = uniform_filter(img, (size, size))\n",
        "    img_sqr_mean = uniform_filter(img**2, (size, size))\n",
        "    img_variance = img_sqr_mean - img_mean**2\n",
        "\n",
        "    overall_variance = variance(img)\n",
        "\n",
        "    img_weights = img_variance**2 / (img_variance**2 + overall_variance**2)\n",
        "    img_output = img_mean + img_weights * (img - img_mean)\n",
        "\n",
        "    return img_output"
      ],
      "execution_count": 10,
      "outputs": []
    },
    {
      "cell_type": "code",
      "metadata": {
        "id": "JwBZuG2HpqDr"
      },
      "source": [
        "def get_scaled_imgs(df):\n",
        "    imgs = []\n",
        "    \n",
        "    for i, row in df.iterrows():\n",
        "        #make 75x75 image\n",
        "        band_1 = np.array(row['band_1']).reshape(75, 75)\n",
        "        band_2 = np.array(row['band_2']).reshape(75, 75)\n",
        "        band_3 = band_1 + band_2 # plus since log(x*y) = log(x) + log(y)\n",
        "\n",
        "        # use a lee filter to help with speckling\n",
        "        band_1 = lee_filter(band_1,4)\n",
        "        band_2 = lee_filter(band_2,4)\n",
        "        band_3 = lee_filter(band_3,4)\n",
        "\n",
        "        # Rescale\n",
        "        a = (band_1 - band_1.mean()) / (band_1.max() - band_1.min())\n",
        "        b = (band_2 - band_2.mean()) / (band_2.max() - band_2.min())\n",
        "        c = (band_3 - band_3.mean()) / (band_3.max() - band_3.min())\n",
        "\n",
        "        imgs.append(np.dstack((a, b, c)))\n",
        "\n",
        "    return np.array(imgs)"
      ],
      "execution_count": 11,
      "outputs": []
    },
    {
      "cell_type": "code",
      "metadata": {
        "id": "lrLTaDtppsEw"
      },
      "source": [
        "Xtrain = get_scaled_imgs(df_train)"
      ],
      "execution_count": 12,
      "outputs": []
    },
    {
      "cell_type": "code",
      "metadata": {
        "id": "Y7s6gHdIptdd"
      },
      "source": [
        "Ytrain = np.array(df_train['is_iceberg'])\n"
      ],
      "execution_count": 13,
      "outputs": []
    },
    {
      "cell_type": "code",
      "metadata": {
        "colab": {
          "base_uri": "https://localhost:8080/"
        },
        "id": "HV8MvPFXpu2X",
        "outputId": "29d83b73-c0d1-4e0c-c554-70bb19bde8a1"
      },
      "source": [
        "df_train.inc_angle = df_train.inc_angle.replace('na',0)\n",
        "idx_tr = np.where(df_train.inc_angle>0)\n",
        "\n",
        "idx_tr"
      ],
      "execution_count": 14,
      "outputs": [
        {
          "output_type": "execute_result",
          "data": {
            "text/plain": [
              "(array([   0,    1,    2, ..., 1506, 1507, 1508]),)"
            ]
          },
          "metadata": {},
          "execution_count": 14
        }
      ]
    },
    {
      "cell_type": "code",
      "metadata": {
        "id": "bray7Ijwpxl0"
      },
      "source": [
        "Ytrain = Ytrain[idx_tr[0]]\n",
        "Xtrain = Xtrain[idx_tr[0],...]"
      ],
      "execution_count": 15,
      "outputs": []
    },
    {
      "cell_type": "code",
      "metadata": {
        "id": "XSQpJjMDp0HR"
      },
      "source": [
        "def get_more_images(imgs):\n",
        "    \n",
        "    more_images = []\n",
        "    vert_flip_imgs = []\n",
        "    hori_flip_imgs = []\n",
        "      \n",
        "    for i in range(0,imgs.shape[0]):\n",
        "        a=imgs[i,:,:,0]\n",
        "        b=imgs[i,:,:,1]\n",
        "        c=imgs[i,:,:,2]\n",
        "        \n",
        "        av=cv2.flip(a,1)\n",
        "        ah=cv2.flip(a,0)\n",
        "        bv=cv2.flip(b,1)\n",
        "        bh=cv2.flip(b,0)\n",
        "        cv=cv2.flip(c,1)\n",
        "        ch=cv2.flip(c,0)\n",
        "        \n",
        "        vert_flip_imgs.append(np.dstack((av, bv, cv)))\n",
        "        hori_flip_imgs.append(np.dstack((ah, bh, ch)))\n",
        "      \n",
        "    v = np.array(vert_flip_imgs)\n",
        "    h = np.array(hori_flip_imgs)\n",
        "       \n",
        "    more_images = np.concatenate((imgs,v,h))\n",
        "    \n",
        "    return more_images"
      ],
      "execution_count": 16,
      "outputs": []
    },
    {
      "cell_type": "code",
      "metadata": {
        "id": "ED1h0fRhqENe"
      },
      "source": [
        "Xtr_more = get_more_images(Xtrain) \n"
      ],
      "execution_count": 17,
      "outputs": []
    },
    {
      "cell_type": "code",
      "metadata": {
        "id": "auub_hgQqFic"
      },
      "source": [
        "Ytr_more = np.concatenate((Ytrain,Ytrain,Ytrain))\n"
      ],
      "execution_count": 18,
      "outputs": []
    },
    {
      "cell_type": "code",
      "metadata": {
        "id": "3E2u516fqGwR"
      },
      "source": [
        "#define our model\n",
        "def getModel():\n",
        "    #Building the model\n",
        "    gmodel=Sequential()\n",
        "    #Conv Layer 1\n",
        "    gmodel.add(Conv2D(64, kernel_size=(3, 3),activation='relu', input_shape=(75, 75, 3)))\n",
        "    gmodel.add(MaxPooling2D(pool_size=(3, 3), strides=(2, 2)))\n",
        "    gmodel.add(Dropout(0.2))\n",
        "\n",
        "    #Conv Layer 2\n",
        "    gmodel.add(Conv2D(128, kernel_size=(3, 3), activation='relu' ))\n",
        "    gmodel.add(MaxPooling2D(pool_size=(2, 2), strides=(2, 2)))\n",
        "    gmodel.add(Dropout(0.2))\n",
        "\n",
        "    #Conv Layer 3\n",
        "    gmodel.add(Conv2D(128, kernel_size=(3, 3), activation='relu'))\n",
        "    gmodel.add(MaxPooling2D(pool_size=(2, 2), strides=(2, 2)))\n",
        "    gmodel.add(Dropout(0.2))\n",
        "\n",
        "    #Conv Layer 4\n",
        "    gmodel.add(Conv2D(64, kernel_size=(3, 3), activation='relu'))\n",
        "    gmodel.add(MaxPooling2D(pool_size=(2, 2), strides=(2, 2)))\n",
        "    gmodel.add(Dropout(0.2))\n",
        "\n",
        "    #Flatten the data for upcoming dense layers\n",
        "    gmodel.add(Flatten())\n",
        "\n",
        "    #Dense Layers\n",
        "    gmodel.add(Dense(512))\n",
        "    gmodel.add(Activation('relu'))\n",
        "    gmodel.add(Dropout(0.2))\n",
        "\n",
        "    #Dense Layer 2\n",
        "    gmodel.add(Dense(256))\n",
        "    gmodel.add(Activation('relu'))\n",
        "    gmodel.add(Dropout(0.2))\n",
        "\n",
        "    #Sigmoid Layer\n",
        "    #Adam 은 모델을 최적화 시켜주는 기능을 한다, \n",
        "    gmodel.add(Dense(1))\n",
        "    gmodel.add(Activation('sigmoid'))\n",
        "\n",
        "    mypotim=Adam(lr=0.001, beta_1=0.9, beta_2=0.999, epsilon=1e-08, decay=0.0)\n",
        "    gmodel.compile(loss='binary_crossentropy',\n",
        "                  optimizer=mypotim,\n",
        "                  metrics=['accuracy'])\n",
        "    gmodel.summary()\n",
        "    return gmodel\n",
        "\n",
        "\n",
        "def get_callbacks(filepath, patience=2):\n",
        "    es = EarlyStopping('val_loss', patience=patience, mode=\"min\")\n",
        "    msave = ModelCheckpoint(filepath, save_best_only=True)\n",
        "    return [es, msave]\n",
        "file_path = \".model_weights.hdf5\"\n",
        "callbacks = get_callbacks(filepath=file_path, patience=5)"
      ],
      "execution_count": 19,
      "outputs": []
    },
    {
      "cell_type": "code",
      "metadata": {
        "id": "LjNnqCL5lsIC"
      },
      "source": [
        "\n",
        "X_train, X_valid, y_train, y_valid = train_test_split(Xtr_more,\n",
        "                                                      Ytr_more,\n",
        "                                                      random_state=42,\n",
        "                                                      train_size = 0.8,\n",
        "                                                      stratify=Ytr_more)"
      ],
      "execution_count": 20,
      "outputs": []
    },
    {
      "cell_type": "code",
      "metadata": {
        "colab": {
          "base_uri": "https://localhost:8080/"
        },
        "id": "I2zctlhZluY1",
        "outputId": "fc552961-4eff-43ee-d9d0-1eac231335e4"
      },
      "source": [
        "#Without denoising, core features.\n",
        "gmodel=getModel()\n",
        "gmodel.fit(X_train, y_train,\n",
        "          batch_size=32,\n",
        "          epochs=50,\n",
        "          verbose=1,\n",
        "          validation_data=(X_valid, y_valid),\n",
        "          callbacks=callbacks)"
      ],
      "execution_count": 21,
      "outputs": [
        {
          "output_type": "stream",
          "text": [
            "/usr/local/lib/python3.7/dist-packages/keras/optimizer_v2/optimizer_v2.py:356: UserWarning: The `lr` argument is deprecated, use `learning_rate` instead.\n",
            "  \"The `lr` argument is deprecated, use `learning_rate` instead.\")\n"
          ],
          "name": "stderr"
        },
        {
          "output_type": "stream",
          "text": [
            "Model: \"sequential\"\n",
            "_________________________________________________________________\n",
            "Layer (type)                 Output Shape              Param #   \n",
            "=================================================================\n",
            "conv2d (Conv2D)              (None, 73, 73, 64)        1792      \n",
            "_________________________________________________________________\n",
            "max_pooling2d (MaxPooling2D) (None, 36, 36, 64)        0         \n",
            "_________________________________________________________________\n",
            "dropout (Dropout)            (None, 36, 36, 64)        0         \n",
            "_________________________________________________________________\n",
            "conv2d_1 (Conv2D)            (None, 34, 34, 128)       73856     \n",
            "_________________________________________________________________\n",
            "max_pooling2d_1 (MaxPooling2 (None, 17, 17, 128)       0         \n",
            "_________________________________________________________________\n",
            "dropout_1 (Dropout)          (None, 17, 17, 128)       0         \n",
            "_________________________________________________________________\n",
            "conv2d_2 (Conv2D)            (None, 15, 15, 128)       147584    \n",
            "_________________________________________________________________\n",
            "max_pooling2d_2 (MaxPooling2 (None, 7, 7, 128)         0         \n",
            "_________________________________________________________________\n",
            "dropout_2 (Dropout)          (None, 7, 7, 128)         0         \n",
            "_________________________________________________________________\n",
            "conv2d_3 (Conv2D)            (None, 5, 5, 64)          73792     \n",
            "_________________________________________________________________\n",
            "max_pooling2d_3 (MaxPooling2 (None, 2, 2, 64)          0         \n",
            "_________________________________________________________________\n",
            "dropout_3 (Dropout)          (None, 2, 2, 64)          0         \n",
            "_________________________________________________________________\n",
            "flatten (Flatten)            (None, 256)               0         \n",
            "_________________________________________________________________\n",
            "dense (Dense)                (None, 512)               131584    \n",
            "_________________________________________________________________\n",
            "activation (Activation)      (None, 512)               0         \n",
            "_________________________________________________________________\n",
            "dropout_4 (Dropout)          (None, 512)               0         \n",
            "_________________________________________________________________\n",
            "dense_1 (Dense)              (None, 256)               131328    \n",
            "_________________________________________________________________\n",
            "activation_1 (Activation)    (None, 256)               0         \n",
            "_________________________________________________________________\n",
            "dropout_5 (Dropout)          (None, 256)               0         \n",
            "_________________________________________________________________\n",
            "dense_2 (Dense)              (None, 1)                 257       \n",
            "_________________________________________________________________\n",
            "activation_2 (Activation)    (None, 1)                 0         \n",
            "=================================================================\n",
            "Total params: 560,193\n",
            "Trainable params: 560,193\n",
            "Non-trainable params: 0\n",
            "_________________________________________________________________\n",
            "Epoch 1/50\n",
            "111/111 [==============================] - 51s 454ms/step - loss: 0.5531 - accuracy: 0.6989 - val_loss: 0.5175 - val_accuracy: 0.7395\n",
            "Epoch 2/50\n",
            "111/111 [==============================] - 49s 440ms/step - loss: 0.3708 - accuracy: 0.8374 - val_loss: 0.3974 - val_accuracy: 0.8347\n",
            "Epoch 3/50\n",
            "111/111 [==============================] - 48s 437ms/step - loss: 0.3374 - accuracy: 0.8541 - val_loss: 0.4232 - val_accuracy: 0.8188\n",
            "Epoch 4/50\n",
            "111/111 [==============================] - 48s 436ms/step - loss: 0.2953 - accuracy: 0.8697 - val_loss: 0.3038 - val_accuracy: 0.8630\n",
            "Epoch 5/50\n",
            "111/111 [==============================] - 49s 439ms/step - loss: 0.2595 - accuracy: 0.8915 - val_loss: 0.3255 - val_accuracy: 0.8732\n",
            "Epoch 6/50\n",
            "111/111 [==============================] - 48s 435ms/step - loss: 0.2287 - accuracy: 0.9020 - val_loss: 0.2791 - val_accuracy: 0.8958\n",
            "Epoch 7/50\n",
            "111/111 [==============================] - 48s 435ms/step - loss: 0.2311 - accuracy: 0.9116 - val_loss: 0.4021 - val_accuracy: 0.8086\n",
            "Epoch 8/50\n",
            "111/111 [==============================] - 48s 434ms/step - loss: 0.2358 - accuracy: 0.9054 - val_loss: 0.2270 - val_accuracy: 0.9003\n",
            "Epoch 9/50\n",
            "111/111 [==============================] - 48s 434ms/step - loss: 0.1916 - accuracy: 0.9187 - val_loss: 0.2382 - val_accuracy: 0.9071\n",
            "Epoch 10/50\n",
            "111/111 [==============================] - 48s 435ms/step - loss: 0.1900 - accuracy: 0.9238 - val_loss: 0.2580 - val_accuracy: 0.8811\n",
            "Epoch 11/50\n",
            "111/111 [==============================] - 48s 436ms/step - loss: 0.1761 - accuracy: 0.9317 - val_loss: 0.1958 - val_accuracy: 0.9241\n",
            "Epoch 12/50\n",
            "111/111 [==============================] - 48s 436ms/step - loss: 0.1458 - accuracy: 0.9394 - val_loss: 0.2337 - val_accuracy: 0.9173\n",
            "Epoch 13/50\n",
            "111/111 [==============================] - 48s 436ms/step - loss: 0.1541 - accuracy: 0.9416 - val_loss: 0.2005 - val_accuracy: 0.9275\n",
            "Epoch 14/50\n",
            "111/111 [==============================] - 48s 437ms/step - loss: 0.1419 - accuracy: 0.9436 - val_loss: 0.2254 - val_accuracy: 0.9241\n",
            "Epoch 15/50\n",
            "111/111 [==============================] - 48s 435ms/step - loss: 0.1461 - accuracy: 0.9408 - val_loss: 0.2088 - val_accuracy: 0.9162\n",
            "Epoch 16/50\n",
            "111/111 [==============================] - 48s 436ms/step - loss: 0.1240 - accuracy: 0.9513 - val_loss: 0.2297 - val_accuracy: 0.9173\n"
          ],
          "name": "stdout"
        },
        {
          "output_type": "execute_result",
          "data": {
            "text/plain": [
              "<keras.callbacks.History at 0x7f4cc2503c90>"
            ]
          },
          "metadata": {},
          "execution_count": 21
        }
      ]
    },
    {
      "cell_type": "code",
      "metadata": {
        "colab": {
          "base_uri": "https://localhost:8080/"
        },
        "id": "r-uDBOhCleLa",
        "outputId": "76b19300-713a-42e3-9d66-c2ebf7c9abad"
      },
      "source": [
        "gmodel.load_weights(filepath=file_path)\n",
        "score = gmodel.evaluate(X_valid, y_valid, verbose=1)\n",
        "print('Test loss:', score[0])\n",
        "print('Test accuracy:', score[1])"
      ],
      "execution_count": 22,
      "outputs": [
        {
          "output_type": "stream",
          "text": [
            "28/28 [==============================] - 3s 93ms/step - loss: 0.1958 - accuracy: 0.9241\n",
            "Test loss: 0.19577473402023315\n",
            "Test accuracy: 0.9241223335266113\n"
          ],
          "name": "stdout"
        }
      ]
    },
    {
      "cell_type": "code",
      "metadata": {
        "colab": {
          "base_uri": "https://localhost:8080/"
        },
        "id": "GpTw6nsTqRh5",
        "outputId": "29f9a8de-22b7-462a-d322-a0221b2e097e"
      },
      "source": [
        "df_test = pd.read_json('test.json')\n",
        "df_test.inc_angle = df_test.inc_angle.replace('na',0)\n",
        "Xtest = (get_scaled_imgs(df_test))\n",
        "pred_test = gmodel.predict(Xtest)\n",
        "\n",
        "submission = pd.DataFrame({'id': df_test[\"id\"], 'is_iceberg': pred_test.reshape((pred_test.shape[0]))})\n",
        "print(submission.head(10))\n",
        "\n",
        "submission.to_csv('submission.csv', index=False)"
      ],
      "execution_count": 23,
      "outputs": [
        {
          "output_type": "stream",
          "text": [
            "         id  is_iceberg\n",
            "0  5941774d    0.009097\n",
            "1  4023181e    0.950651\n",
            "2  b20200e4    0.019480\n",
            "3  e7f018bb    0.998447\n",
            "4  4371c8c3    0.979289\n",
            "5  a8d9b1fd    0.281676\n",
            "6  29e7727e    0.075297\n",
            "7  92a51ffb    0.995088\n",
            "8  c769ac97    0.000023\n",
            "9  aee0547d    0.000001\n"
          ],
          "name": "stdout"
        }
      ]
    },
    {
      "cell_type": "code",
      "metadata": {
        "colab": {
          "base_uri": "https://localhost:8080/"
        },
        "id": "xmcbFHF9qToT",
        "outputId": "94fa1e51-08ca-43f8-ef0b-7f6c9beabf69"
      },
      "source": [
        "!kaggle competitions submit -c statoil-iceberg-classifier-challenge -f submission.csv -m \"2021-08-26 third commit Remove_NaN+Sum_Channel+Lee_Filter+Augmentation+CNN+\""
      ],
      "execution_count": 24,
      "outputs": [
        {
          "output_type": "stream",
          "text": [
            "Warning: Looks like you're using an outdated API Version, please consider updating (server 1.5.12 / client 1.5.4)\n",
            "\r  0% 0.00/165k [00:00<?, ?B/s]\r100% 165k/165k [00:00<00:00, 787kB/s]\n",
            "Successfully submitted to Statoil/C-CORE Iceberg Classifier Challenge"
          ],
          "name": "stdout"
        }
      ]
    },
    {
      "cell_type": "markdown",
      "metadata": {
        "id": "_ls4bdHL0RfE"
      },
      "source": [
        "# Pseudo Labeling"
      ]
    },
    {
      "cell_type": "code",
      "metadata": {
        "id": "Skom456HwJq0",
        "colab": {
          "base_uri": "https://localhost:8080/"
        },
        "outputId": "340019e6-a28a-4711-a5ba-3544be294b87"
      },
      "source": [
        "new_X = np.concatenate([Xtr_more,Xtest])\n",
        "add_target = np.array([1 if i[0]>=0.5 else 0 for i in pred_test])\n",
        "new_y = np.concatenate([Ytr_more,add_target])\n",
        "\n",
        "new_X.shape,new_y.shape"
      ],
      "execution_count": 27,
      "outputs": [
        {
          "output_type": "execute_result",
          "data": {
            "text/plain": [
              "((12837, 75, 75, 3), (12837,))"
            ]
          },
          "metadata": {},
          "execution_count": 27
        }
      ]
    },
    {
      "cell_type": "code",
      "metadata": {
        "id": "QVUEFAxF0n3o"
      },
      "source": [
        "\n",
        "X_train, X_valid, y_train, y_valid = train_test_split(new_X,\n",
        "                                                      new_y,\n",
        "                                                      random_state=42,\n",
        "                                                      train_size = 0.8,\n",
        "                                                      stratify=new_y)"
      ],
      "execution_count": 28,
      "outputs": []
    },
    {
      "cell_type": "code",
      "metadata": {
        "colab": {
          "base_uri": "https://localhost:8080/"
        },
        "id": "KC9ZCPbz1DlD",
        "outputId": "8d3ded23-d976-4e75-d723-f943be98c6f8"
      },
      "source": [
        "#Without denoising, core features.\n",
        "gmodel=getModel()\n",
        "gmodel.fit(X_train, y_train,\n",
        "          batch_size=32,\n",
        "          epochs=50,\n",
        "          verbose=1,\n",
        "          validation_data=(X_valid, y_valid),\n",
        "          callbacks=callbacks)"
      ],
      "execution_count": 29,
      "outputs": [
        {
          "output_type": "stream",
          "text": [
            "/usr/local/lib/python3.7/dist-packages/keras/optimizer_v2/optimizer_v2.py:356: UserWarning: The `lr` argument is deprecated, use `learning_rate` instead.\n",
            "  \"The `lr` argument is deprecated, use `learning_rate` instead.\")\n"
          ],
          "name": "stderr"
        },
        {
          "output_type": "stream",
          "text": [
            "Model: \"sequential_1\"\n",
            "_________________________________________________________________\n",
            "Layer (type)                 Output Shape              Param #   \n",
            "=================================================================\n",
            "conv2d_4 (Conv2D)            (None, 73, 73, 64)        1792      \n",
            "_________________________________________________________________\n",
            "max_pooling2d_4 (MaxPooling2 (None, 36, 36, 64)        0         \n",
            "_________________________________________________________________\n",
            "dropout_6 (Dropout)          (None, 36, 36, 64)        0         \n",
            "_________________________________________________________________\n",
            "conv2d_5 (Conv2D)            (None, 34, 34, 128)       73856     \n",
            "_________________________________________________________________\n",
            "max_pooling2d_5 (MaxPooling2 (None, 17, 17, 128)       0         \n",
            "_________________________________________________________________\n",
            "dropout_7 (Dropout)          (None, 17, 17, 128)       0         \n",
            "_________________________________________________________________\n",
            "conv2d_6 (Conv2D)            (None, 15, 15, 128)       147584    \n",
            "_________________________________________________________________\n",
            "max_pooling2d_6 (MaxPooling2 (None, 7, 7, 128)         0         \n",
            "_________________________________________________________________\n",
            "dropout_8 (Dropout)          (None, 7, 7, 128)         0         \n",
            "_________________________________________________________________\n",
            "conv2d_7 (Conv2D)            (None, 5, 5, 64)          73792     \n",
            "_________________________________________________________________\n",
            "max_pooling2d_7 (MaxPooling2 (None, 2, 2, 64)          0         \n",
            "_________________________________________________________________\n",
            "dropout_9 (Dropout)          (None, 2, 2, 64)          0         \n",
            "_________________________________________________________________\n",
            "flatten_1 (Flatten)          (None, 256)               0         \n",
            "_________________________________________________________________\n",
            "dense_3 (Dense)              (None, 512)               131584    \n",
            "_________________________________________________________________\n",
            "activation_3 (Activation)    (None, 512)               0         \n",
            "_________________________________________________________________\n",
            "dropout_10 (Dropout)         (None, 512)               0         \n",
            "_________________________________________________________________\n",
            "dense_4 (Dense)              (None, 256)               131328    \n",
            "_________________________________________________________________\n",
            "activation_4 (Activation)    (None, 256)               0         \n",
            "_________________________________________________________________\n",
            "dropout_11 (Dropout)         (None, 256)               0         \n",
            "_________________________________________________________________\n",
            "dense_5 (Dense)              (None, 1)                 257       \n",
            "_________________________________________________________________\n",
            "activation_5 (Activation)    (None, 1)                 0         \n",
            "=================================================================\n",
            "Total params: 560,193\n",
            "Trainable params: 560,193\n",
            "Non-trainable params: 0\n",
            "_________________________________________________________________\n",
            "Epoch 1/50\n",
            "321/321 [==============================] - 144s 447ms/step - loss: 0.4423 - accuracy: 0.7809 - val_loss: 0.2556 - val_accuracy: 0.8945\n",
            "Epoch 2/50\n",
            "321/321 [==============================] - 141s 441ms/step - loss: 0.2776 - accuracy: 0.8827 - val_loss: 0.2167 - val_accuracy: 0.9081\n",
            "Epoch 3/50\n",
            "321/321 [==============================] - 141s 438ms/step - loss: 0.2456 - accuracy: 0.8989 - val_loss: 0.1912 - val_accuracy: 0.9252\n",
            "Epoch 4/50\n",
            "321/321 [==============================] - 141s 438ms/step - loss: 0.2215 - accuracy: 0.9127 - val_loss: 0.1665 - val_accuracy: 0.9342\n",
            "Epoch 5/50\n",
            "321/321 [==============================] - 140s 437ms/step - loss: 0.2022 - accuracy: 0.9179 - val_loss: 0.1894 - val_accuracy: 0.9276\n",
            "Epoch 6/50\n",
            "321/321 [==============================] - 140s 438ms/step - loss: 0.2024 - accuracy: 0.9163 - val_loss: 0.1889 - val_accuracy: 0.9272\n",
            "Epoch 7/50\n",
            "321/321 [==============================] - 141s 438ms/step - loss: 0.1802 - accuracy: 0.9290 - val_loss: 0.1888 - val_accuracy: 0.9303\n",
            "Epoch 8/50\n",
            "321/321 [==============================] - 140s 437ms/step - loss: 0.1708 - accuracy: 0.9328 - val_loss: 0.1749 - val_accuracy: 0.9342\n",
            "Epoch 9/50\n",
            "321/321 [==============================] - 141s 438ms/step - loss: 0.1660 - accuracy: 0.9330 - val_loss: 0.1634 - val_accuracy: 0.9295\n",
            "Epoch 10/50\n",
            "321/321 [==============================] - 140s 438ms/step - loss: 0.1471 - accuracy: 0.9421 - val_loss: 0.1670 - val_accuracy: 0.9307\n",
            "Epoch 11/50\n",
            "321/321 [==============================] - 141s 438ms/step - loss: 0.1479 - accuracy: 0.9412 - val_loss: 0.1823 - val_accuracy: 0.9252\n",
            "Epoch 12/50\n",
            "321/321 [==============================] - 143s 445ms/step - loss: 0.1329 - accuracy: 0.9487 - val_loss: 0.1816 - val_accuracy: 0.9303\n",
            "Epoch 13/50\n",
            "321/321 [==============================] - 155s 484ms/step - loss: 0.1347 - accuracy: 0.9445 - val_loss: 0.1657 - val_accuracy: 0.9280\n",
            "Epoch 14/50\n",
            "321/321 [==============================] - 147s 459ms/step - loss: 0.1282 - accuracy: 0.9488 - val_loss: 0.1680 - val_accuracy: 0.9373\n"
          ],
          "name": "stdout"
        },
        {
          "output_type": "execute_result",
          "data": {
            "text/plain": [
              "<keras.callbacks.History at 0x7f4cae005a90>"
            ]
          },
          "metadata": {},
          "execution_count": 29
        }
      ]
    },
    {
      "cell_type": "code",
      "metadata": {
        "colab": {
          "base_uri": "https://localhost:8080/"
        },
        "id": "nVo_KS-U1GYb",
        "outputId": "5dc8e376-fa3c-4624-e7e8-692ef4c87166"
      },
      "source": [
        "gmodel.load_weights(filepath=file_path)\n",
        "score = gmodel.evaluate(X_valid, y_valid, verbose=1)\n",
        "print('Test loss:', score[0])\n",
        "print('Test accuracy:', score[1])"
      ],
      "execution_count": 30,
      "outputs": [
        {
          "output_type": "stream",
          "text": [
            "81/81 [==============================] - 8s 95ms/step - loss: 0.1634 - accuracy: 0.9295\n",
            "Test loss: 0.16344022750854492\n",
            "Test accuracy: 0.9295171499252319\n"
          ],
          "name": "stdout"
        }
      ]
    },
    {
      "cell_type": "code",
      "metadata": {
        "colab": {
          "base_uri": "https://localhost:8080/"
        },
        "id": "VMlDIowN1M1W",
        "outputId": "70fa4ba0-ad91-4226-f3cf-9d716686ed87"
      },
      "source": [
        "df_test = pd.read_json('test.json')\n",
        "df_test.inc_angle = df_test.inc_angle.replace('na',0)\n",
        "Xtest = (get_scaled_imgs(df_test))\n",
        "pred_test = gmodel.predict(Xtest)\n",
        "\n",
        "submission = pd.DataFrame({'id': df_test[\"id\"], 'is_iceberg': pred_test.reshape((pred_test.shape[0]))})\n",
        "print(submission.head(10))\n",
        "\n",
        "submission.to_csv('submission.csv', index=False)"
      ],
      "execution_count": 31,
      "outputs": [
        {
          "output_type": "stream",
          "text": [
            "         id  is_iceberg\n",
            "0  5941774d    0.002428\n",
            "1  4023181e    0.999233\n",
            "2  b20200e4    0.000063\n",
            "3  e7f018bb    0.999142\n",
            "4  4371c8c3    0.999994\n",
            "5  a8d9b1fd    0.226824\n",
            "6  29e7727e    0.023768\n",
            "7  92a51ffb    0.999609\n",
            "8  c769ac97    0.000004\n",
            "9  aee0547d    0.000002\n"
          ],
          "name": "stdout"
        }
      ]
    },
    {
      "cell_type": "code",
      "metadata": {
        "colab": {
          "base_uri": "https://localhost:8080/"
        },
        "id": "kn9gsJdP1PwQ",
        "outputId": "6b71b6b0-8284-4427-fc80-a3b218542d08"
      },
      "source": [
        "!kaggle competitions submit -c statoil-iceberg-classifier-challenge -f submission.csv -m \"2021-08-26 forth commit Remove_NaN+Sum_Channel+Lee_Filter+Augmentation+CNN+Pseudo_Labeling\""
      ],
      "execution_count": 32,
      "outputs": [
        {
          "output_type": "stream",
          "text": [
            "Warning: Looks like you're using an outdated API Version, please consider updating (server 1.5.12 / client 1.5.4)\n",
            "100% 166k/166k [00:00<00:00, 793kB/s]\n",
            "Successfully submitted to Statoil/C-CORE Iceberg Classifier Challenge"
          ],
          "name": "stdout"
        }
      ]
    },
    {
      "cell_type": "code",
      "metadata": {
        "id": "g27WzU3S9UZc"
      },
      "source": [
        ""
      ],
      "execution_count": null,
      "outputs": []
    }
  ]
}